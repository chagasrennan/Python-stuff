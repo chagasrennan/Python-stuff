{
 "cells": [
  {
   "cell_type": "markdown",
   "metadata": {},
   "source": [
    "# Barnsley fern\n",
    "\n",
    "In this notebook I present my pyhton implementation of a way to visualize a Barnsley fern. The Barnsley fern is a fractal named after the British mathematician Michael Barnsley who first described it.\n",
    "\n",
    "The code is based on the instructions provided in [this article](https://en.wikipedia.org/wiki/Barnsley_fern#cite_note-Fractals-1) from Wikipedia where more information can be found.\n",
    "\n",
    "---\n",
    "#### Created by\n",
    "**Rennan Danilo Seimetz Chagas** <br>\n",
    "Industrial Engineer & Optimization <br>\n",
    "email: chagasrennan@gmail.com "
   ]
  },
  {
   "cell_type": "code",
   "execution_count": 3,
   "metadata": {},
   "outputs": [],
   "source": [
    "import numpy as np\n",
    "import random\n",
    "import turtle"
   ]
  },
  {
   "cell_type": "code",
   "execution_count": 4,
   "metadata": {},
   "outputs": [],
   "source": [
    "axiom = 'F'\n",
    "rules = {'F':'FF+[+F-F-F]-[-F+F+F]'}\n",
    "# axiom = 'F'\n",
    "# rules = {'F':'F+F−F−F+F'}\n",
    "\n",
    "def generate(sentence, rules):\n",
    "    newsentence = ''\n",
    "    for i in range(len(sentence)):\n",
    "        current = sentence[i]\n",
    "        if current in rules:\n",
    "            newsentence += rules[current]\n",
    "        else:\n",
    "            newsentence += current\n",
    "    return newsentence\n",
    "\n",
    "def parser(myturtle, sentence, angle):\n",
    "    orig = np.array([0,0])\n",
    "    stack  = [] \n",
    "    for i in sentence:\n",
    "        current = i\n",
    "        if current == 'F':\n",
    "            myturtle.forward(10)\n",
    "        elif current == '+':\n",
    "            myturtle.right(angle)\n",
    "            # myturtle.forward(10)\n",
    "        elif current == '-':\n",
    "            myturtle.left(angle)\n",
    "            # myturtle.forward(10)\n",
    "        elif current == '[':\n",
    "            stack.append((myturtle.heading(), myturtle.pos()))\n",
    "        \n",
    "        elif current == ']':\n",
    "            heading, position = stack.pop()\n",
    "            myturtle.penup()\n",
    "            myturtle.goto(position)\n",
    "            myturtle.setheading(heading)\n",
    "            myturtle.pendown()"
   ]
  },
  {
   "cell_type": "code",
   "execution_count": 5,
   "metadata": {},
   "outputs": [],
   "source": [
    "x = axiom\n",
    "for i in range(5):\n",
    "    x = generate(x, rules)\n",
    "# print(x, '\\n')\n",
    "\n",
    "t = turtle.Turtle()\n",
    "wn = turtle.Screen()\n",
    "\n",
    "t.left(90)\n",
    "t.speed(10)\n",
    "turtle.tracer(0, 0)\n",
    "parser(t,x, 25)\n",
    "turtle.update()\n",
    "\n",
    "wn.exitonclick()"
   ]
  },
  {
   "cell_type": "code",
   "execution_count": null,
   "metadata": {},
   "outputs": [],
   "source": []
  }
 ],
 "metadata": {
  "kernelspec": {
   "display_name": "Python 3",
   "language": "python",
   "name": "python3"
  },
  "language_info": {
   "codemirror_mode": {
    "name": "ipython",
    "version": 3
   },
   "file_extension": ".py",
   "mimetype": "text/x-python",
   "name": "python",
   "nbconvert_exporter": "python",
   "pygments_lexer": "ipython3",
   "version": "3.6.6"
  }
 },
 "nbformat": 4,
 "nbformat_minor": 2
}
