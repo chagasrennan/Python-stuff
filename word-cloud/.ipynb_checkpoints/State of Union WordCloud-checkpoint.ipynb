{
 "cells": [
  {
   "cell_type": "markdown",
   "metadata": {},
   "source": [
    "# Real numbers walk\n",
    "\n",
    "In this notebook I present my pyhton implementation of a way to visualize some cool word clouds. \n",
    "\n",
    "To do so, I took some addresses from State of the Union from presidents George Bush (2002, right after 9/11) and the addresses after presidential ellections from Barack Obama and Donald Trump. \n",
    "\n",
    "The idea is to plot the wordcloud in two ways: A word cloud with the silhouette of the president and a second one trying to use the original image colors for the words and reproduce the president appearance.\n",
    "\n",
    "---\n",
    "#### Created by\n",
    "**Rennan Danilo Seimetz Chagas** <br>\n",
    "Industrial Engineer & Optimization <br>\n",
    "email: chagasrennan@gmail.com "
   ]
  },
  {
   "cell_type": "code",
   "execution_count": 2,
   "metadata": {},
   "outputs": [
    {
     "ename": "ModuleNotFoundError",
     "evalue": "No module named 'stop_words'",
     "output_type": "error",
     "traceback": [
      "\u001b[0;31m---------------------------------------------------------------------------\u001b[0m",
      "\u001b[0;31mModuleNotFoundError\u001b[0m                       Traceback (most recent call last)",
      "\u001b[0;32m<ipython-input-2-a323aa0724ed>\u001b[0m in \u001b[0;36m<module>\u001b[0;34m\u001b[0m\n\u001b[1;32m      1\u001b[0m \u001b[0;32mfrom\u001b[0m \u001b[0mwordcloud\u001b[0m \u001b[0;32mimport\u001b[0m \u001b[0mWordCloud\u001b[0m\u001b[0;34m,\u001b[0m \u001b[0mImageColorGenerator\u001b[0m\u001b[0;34m\u001b[0m\u001b[0m\n\u001b[0;32m----> 2\u001b[0;31m \u001b[0;32mfrom\u001b[0m \u001b[0mstop_words\u001b[0m \u001b[0;32mimport\u001b[0m \u001b[0mget_stop_words\u001b[0m \u001b[0;31m# lib provides stopwords\u001b[0m\u001b[0;34m\u001b[0m\u001b[0m\n\u001b[0m\u001b[1;32m      3\u001b[0m \u001b[0;32mfrom\u001b[0m \u001b[0mPIL\u001b[0m \u001b[0;32mimport\u001b[0m \u001b[0mImage\u001b[0m\u001b[0;34m\u001b[0m\u001b[0m\n\u001b[1;32m      4\u001b[0m \u001b[0;32mimport\u001b[0m \u001b[0mnumpy\u001b[0m \u001b[0;32mas\u001b[0m \u001b[0mnp\u001b[0m\u001b[0;34m\u001b[0m\u001b[0m\n\u001b[1;32m      5\u001b[0m \u001b[0;32mimport\u001b[0m \u001b[0mmatplotlib\u001b[0m\u001b[0;34m.\u001b[0m\u001b[0mpyplot\u001b[0m \u001b[0;32mas\u001b[0m \u001b[0mplt\u001b[0m\u001b[0;34m\u001b[0m\u001b[0m\n",
      "\u001b[0;31mModuleNotFoundError\u001b[0m: No module named 'stop_words'"
     ]
    }
   ],
   "source": [
    "from wordcloud import WordCloud, ImageColorGenerator\n",
    "from stop_words import get_stop_words # lib provides stopwords \n",
    "from PIL import Image\n",
    "import numpy as np\n",
    "import matplotlib.pyplot as plt\n",
    "import IPython.display as dp\n",
    "\n",
    "# Addresses state of the union\n",
    "# Bush      2002 - After 9/11\n",
    "# Obama     2009 - After 1st election\n",
    "# Trump     2017 - After 1st election\n",
    "# Bolsonaro 2019 - After 1st election (Brazilian equivalent speech)\n",
    "\n",
    "def plotmask(name):\n",
    "\n",
    "    # Read the whole text.\n",
    "    text = open('address/'+ name +'.txt',encoding='utf8').read()\n",
    "\n",
    "    stopwords = get_stop_words('en')\n",
    "\n",
    "    # Create mask with president picture\n",
    "    masky = np.array(Image.open('presidentmask/' + name + '.png'))\n",
    "\n",
    "    # Generate a word cloud constructor\n",
    "    wc = WordCloud(stopwords=stopwords,\n",
    "                   background_color='white',\n",
    "                   mask=masky,\n",
    "                   contour_width=5,\n",
    "                   contour_color='steelblue',\n",
    "                   random_state=42,\n",
    "                  font_path='Times')\n",
    "\n",
    "    # geenrate cloud object with text\n",
    "    wc.generate(text)\n",
    "    \n",
    "    # export png file\n",
    "    wc.to_file(name +'.png')\n",
    " \n",
    "def plotcolor(name):\n",
    "    # Read the whole text.\n",
    "    text = open('address/'+ name +'.txt',encoding='utf8').read()\n",
    "\n",
    "    stopwords = get_stop_words('en')\n",
    "\n",
    "    # Create mask with colored president picture\n",
    "    president_coloring = np.array(Image.open('presidentmask/' + name + '_color.png'))\n",
    "\n",
    "    # create coloring from image\n",
    "    image_colors = ImageColorGenerator(president_coloring)\n",
    "\n",
    "    # Generate a word cloud image\n",
    "    wc = WordCloud(stopwords=stopwords,\n",
    "                   background_color='white',\n",
    "                   mask=president_coloring,\n",
    "                   color_func = image_colors,\n",
    "                   max_words=1000,\n",
    "                   max_font_size=60,\n",
    "                   random_state=42,\n",
    "                  font_path='Times')\n",
    "\n",
    "    wc.generate(text)\n",
    "\n",
    "    wc.to_file(name + '_color.png')"
   ]
  },
  {
   "cell_type": "code",
   "execution_count": null,
   "metadata": {},
   "outputs": [],
   "source": [
    "presidents = ['Bush','Obama','Trump', 'Bolsonaro']\n",
    "\n",
    "for pres in presidents:\n",
    "    plotmask(pres)\n",
    "    plotcolor(pres)"
   ]
  },
  {
   "cell_type": "code",
   "execution_count": null,
   "metadata": {},
   "outputs": [],
   "source": [
    "images = []\n",
    "for pres in presidents:\n",
    "    images.append(dp.Image(filename= pres + '.png', format='png'))\n",
    "    images.append(dp.Image(filename= pres + '_color.png', format='png'))\n",
    "    \n",
    "# display all images\n",
    "for ea in images:\n",
    "    dp.display_png(ea)"
   ]
  },
  {
   "cell_type": "code",
   "execution_count": null,
   "metadata": {},
   "outputs": [],
   "source": []
  },
  {
   "cell_type": "code",
   "execution_count": null,
   "metadata": {},
   "outputs": [],
   "source": []
  }
 ],
 "metadata": {
  "kernelspec": {
   "display_name": "Python 3",
   "language": "python",
   "name": "python3"
  },
  "language_info": {
   "codemirror_mode": {
    "name": "ipython",
    "version": 3
   },
   "file_extension": ".py",
   "mimetype": "text/x-python",
   "name": "python",
   "nbconvert_exporter": "python",
   "pygments_lexer": "ipython3",
   "version": "3.6.6"
  }
 },
 "nbformat": 4,
 "nbformat_minor": 2
}
